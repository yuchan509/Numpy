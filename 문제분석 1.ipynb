{
 "cells": [
  {
   "cell_type": "code",
   "execution_count": 1,
   "metadata": {},
   "outputs": [],
   "source": [
    "import numpy as np\n",
    "import matplotlib.pyplot as plt"
   ]
  },
  {
   "cell_type": "code",
   "execution_count": 2,
   "metadata": {},
   "outputs": [],
   "source": [
    "# 데이터 읽기.\n",
    "data = np.loadtxt('data/births.txt',delimiter=',', dtype=np.int64)"
   ]
  },
  {
   "cell_type": "markdown",
   "metadata": {},
   "source": [
    "#### 1. 남아, 여아 출생 평균을 구하시오."
   ]
  },
  {
   "cell_type": "code",
   "execution_count": 3,
   "metadata": {},
   "outputs": [
    {
     "name": "stdout",
     "output_type": "stream",
     "text": [
      "남아 출생 평균 : 1225776.068\n",
      "여아 출생 평균 : 1245399.212\n"
     ]
    }
   ],
   "source": [
    "# data[:,1].mean()\n",
    "# data[:,2].mean()\n",
    "print(f'남아 출생 평균 : {round(data.mean(axis=0)[1], 3)}')\n",
    "print(f'여아 출생 평균 : {round(data.mean(axis=0)[2], 3)}')"
   ]
  },
  {
   "cell_type": "markdown",
   "metadata": {},
   "source": [
    "#### 2. 2000년대 이후 데이터를 구하시오."
   ]
  },
  {
   "cell_type": "code",
   "execution_count": 4,
   "metadata": {},
   "outputs": [
    {
     "name": "stdout",
     "output_type": "stream",
     "text": [
      "연도\t남아\t여아\n",
      "=======================\n",
      "2000\t1814601\t1962406\n",
      "2001\t1799049\t1941251\n",
      "2002\t1795206\t1939815\n",
      "2003\t1825359\t1973434\n",
      "2004\t1834145\t1982794\n",
      "2005\t1845379\t1994841\n",
      "2006\t1898463\t2052377\n",
      "2007\t1919408\t2072139\n",
      "2008\t1887234\t2036289\n",
      "2009\t1832925\t1979303\n",
      "2010\t1772738\t1913851\n",
      "2011\t1753500\t1893230\n"
     ]
    }
   ],
   "source": [
    "print('연도', '남아', '여아',  sep='\\t')\n",
    "print('='*23)\n",
    "for year, man, female in data[ data[:, 0] >= 2000 ] :\n",
    "    print(year, man, female, sep='\\t')"
   ]
  },
  {
   "cell_type": "markdown",
   "metadata": {},
   "source": [
    "#### 3. 남아 출생이 가장 많은 년도와 남아수를 구하시오."
   ]
  },
  {
   "cell_type": "code",
   "execution_count": 5,
   "metadata": {},
   "outputs": [
    {
     "name": "stdout",
     "output_type": "stream",
     "text": [
      " 연도 : 1957\n",
      " 남아 : 2044160\n"
     ]
    }
   ],
   "source": [
    "print(f' 연도 : {data[ data[:, 1].argmax() ][0]}')\n",
    "print(f' 남아 : {data[ data[:, 1].argmax() ][1]}')"
   ]
  },
  {
   "cell_type": "markdown",
   "metadata": {},
   "source": [
    "#### 4. 남아 출생이 가장 많은 top5를 구하시오. (년도와 남아수)"
   ]
  },
  {
   "cell_type": "code",
   "execution_count": 6,
   "metadata": {},
   "outputs": [
    {
     "name": "stdout",
     "output_type": "stream",
     "text": [
      "연도\t남아\n",
      "===============\n",
      "1957\t2044160\n",
      "1959\t2023044\n",
      "1960\t2022093\n",
      "1961\t2017316\n",
      "1958\t2010884\n"
     ]
    }
   ],
   "source": [
    "top = data[ np.argsort( data[:,1] ) ][:-6:-1][:, :-1]\n",
    "print('연도', '남아', sep='\\t')\n",
    "print('='*15)\n",
    "for year, man in top :\n",
    "    print(year, man, sep='\\t')"
   ]
  },
  {
   "cell_type": "markdown",
   "metadata": {},
   "source": [
    "#### 5. 남아율(%) 을 구하고 각 년도별 남아수가 차지하는 비율을 데이터로 보여주시오."
   ]
  },
  {
   "cell_type": "code",
   "execution_count": 7,
   "metadata": {},
   "outputs": [
    {
     "data": {
      "text/plain": [
       "array([0.45, 0.48, 0.49, 0.52, 0.53, 0.55, 0.57, 0.59, 0.6 , 0.62, 0.63,\n",
       "       0.65, 0.64, 0.65, 0.66, 0.67, 0.67, 0.68, 0.68, 0.69, 0.67, 0.69,\n",
       "       0.68, 0.69, 0.68, 0.69, 0.69, 0.68, 0.68, 0.68, 0.67, 0.65, 0.56,\n",
       "       0.55, 0.54, 0.54, 0.54, 0.54, 0.53, 0.54, 0.53, 0.53, 0.52, 0.52,\n",
       "       0.52, 0.52, 0.52, 0.51, 0.51, 0.51, 0.51, 0.51, 0.51, 0.5 , 0.5 ,\n",
       "       0.5 , 0.5 , 0.5 , 0.5 , 0.5 , 0.5 , 0.5 , 0.49, 0.49, 0.49, 0.49,\n",
       "       0.49, 0.49, 0.49, 0.49, 0.49, 0.49, 0.49, 0.49, 0.49, 0.49, 0.49,\n",
       "       0.49, 0.49, 0.49, 0.49, 0.49, 0.49, 0.49, 0.49, 0.49, 0.49, 0.49,\n",
       "       0.49, 0.49, 0.48, 0.48, 0.48, 0.48, 0.48, 0.48, 0.48, 0.48, 0.48,\n",
       "       0.48, 0.48, 0.48, 0.48, 0.48, 0.48, 0.48, 0.48, 0.48, 0.48, 0.48,\n",
       "       0.48, 0.48, 0.48, 0.48, 0.48, 0.48, 0.48, 0.48, 0.48, 0.48, 0.48,\n",
       "       0.48, 0.48, 0.48, 0.48, 0.48, 0.48, 0.48, 0.48, 0.48, 0.48, 0.48])"
      ]
     },
     "execution_count": 7,
     "metadata": {},
     "output_type": "execute_result"
    }
   ],
   "source": [
    "Ratio = ( data[:,1] / data[:, 1:].sum(axis=1) ).round(2)\n",
    "Ratio"
   ]
  },
  {
   "cell_type": "markdown",
   "metadata": {},
   "source": [
    "#### 6. 2000년도 이후 데이터에 대해 출생량을 구하고 남아수가 1800000 이상이면 '많음' 아니면 '적음' 이라고 보여주시오."
   ]
  },
  {
   "cell_type": "code",
   "execution_count": 8,
   "metadata": {},
   "outputs": [
    {
     "name": "stdout",
     "output_type": "stream",
     "text": [
      "연도\t남아\t여부\n",
      "====================\n",
      "2000\t1880\t많음\n",
      "2001\t1881\t적음\n",
      "2002\t1882\t적음\n",
      "2003\t1883\t많음\n",
      "2004\t1884\t많음\n",
      "2005\t1885\t많음\n",
      "2006\t1886\t많음\n",
      "2007\t1887\t많음\n",
      "2008\t1888\t많음\n",
      "2009\t1889\t많음\n",
      "2010\t1890\t적음\n",
      "2011\t1891\t적음\n"
     ]
    }
   ],
   "source": [
    "print('연도', '남아', '여부', sep='\\t')\n",
    "print('='*20)\n",
    "Result = np.where( data[ data[:, 0] >= 2000 ][:,1] >= 1800000 , '많음', '적음')\n",
    "for year, man, result  in zip( data[ data[:, 0] >= 2000 ][:, 0], data[ data[:, 1] >= 2000 ][:, 0], Result) :\n",
    "    print(year, man, result, sep='\\t')"
   ]
  },
  {
   "cell_type": "markdown",
   "metadata": {},
   "source": [
    "#### 7. 1800년대, 1900년대, 2000년대, 각 남아,여아수 평균을 구하시오."
   ]
  },
  {
   "cell_type": "code",
   "execution_count": 9,
   "metadata": {},
   "outputs": [
    {
     "name": "stdout",
     "output_type": "stream",
     "text": [
      "< 1800년대 >\n",
      "==============================\n",
      "남아 평균 : 176714.15\n",
      "여아 평균 : 111820.55\n",
      "\n",
      "< 1900년대 >\n",
      "==============================\n",
      "남아 평균 : 1362901.51\n",
      "여아 평균 : 1384145.55\n",
      "\n",
      "< 2000년대 >\n",
      "==============================\n",
      "남아 평균 : 1831500.5833333333\n",
      "여아 평균 : 1978477.5\n"
     ]
    }
   ],
   "source": [
    "y_1800 = data[ data[:, 0] < 1900 ]\n",
    "y_1900 = data[ (data[:, 0] >= 1900) & (data[:, 0] < 2000) ]\n",
    "y_2000 = data[ data[:, 0] >= 2000 ]\n",
    "\n",
    "print('< 1800년대 >')\n",
    "print('='*30)\n",
    "print(f'남아 평균 : {y_1800.mean(axis=0)[1]}')\n",
    "print(f'여아 평균 : {y_1800.mean(axis=0)[2]}')\n",
    "print('')\n",
    "print('< 1900년대 >')\n",
    "print('='*30)\n",
    "print(f'남아 평균 : {y_1900.mean(axis=0)[1]}')\n",
    "print(f'여아 평균 : {y_1900.mean(axis=0)[2]}')\n",
    "print('')\n",
    "print('< 2000년대 >')\n",
    "print('='*30)\n",
    "print(f'남아 평균 : {y_2000.mean(axis=0)[1]}')\n",
    "print(f'여아 평균 : {y_2000.mean(axis=0)[2]}')"
   ]
  },
  {
   "cell_type": "markdown",
   "metadata": {},
   "source": [
    "#### 8. 여아 25% ~ 75% 사이의 값을 구하시오."
   ]
  },
  {
   "cell_type": "code",
   "execution_count": 10,
   "metadata": {},
   "outputs": [
    {
     "name": "stdout",
     "output_type": "stream",
     "text": [
      " 25% 값 : 491904.0\n",
      " 75% 값 : 1904686.5\n"
     ]
    }
   ],
   "source": [
    "print(f' 25% 값 : {np.quantile(data[:, [2]], [0.25, 0.75])[0]}')\n",
    "print(f' 75% 값 : {np.quantile(data[:, [2]], [0.25, 0.75])[1]}')"
   ]
  },
  {
   "cell_type": "markdown",
   "metadata": {},
   "source": [
    "#### 9. 2000년대 남아 데이터를 Bar 차트로 그리시오."
   ]
  },
  {
   "cell_type": "code",
   "execution_count": 11,
   "metadata": {},
   "outputs": [
    {
     "data": {
      "image/png": "[encoded data removed]",
      "text/plain": [
       "<Figure size 432x288 with 1 Axes>"
      ]
     },
     "metadata": {
      "needs_background": "light"
     },
     "output_type": "display_data"
    }
   ],
   "source": [
    "x = data[data[:,0] >= 2000][:,0]\n",
    "y = data[data[:,0] >= 2000][:,1]\n",
    "plt.bar(x, y, color='m')\n",
    "plt.show()"
   ]
  }
 ],
 "metadata": {
  "kernelspec": {
   "display_name": "Python 3",
   "language": "python",
   "name": "python3"
  },
  "language_info": {
   "codemirror_mode": {
    "name": "ipython",
    "version": 3
   },
   "file_extension": ".py",
   "mimetype": "text/x-python",
   "name": "python",
   "nbconvert_exporter": "python",
   "pygments_lexer": "ipython3",
   "version": "3.7.6"
  }
 },
 "nbformat": 4,
 "nbformat_minor": 4
}
