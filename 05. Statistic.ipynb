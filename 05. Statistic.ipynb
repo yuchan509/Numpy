{
 "cells": [
  {
   "cell_type": "code",
   "execution_count": 1,
   "metadata": {},
   "outputs": [],
   "source": [
    "import numpy as np"
   ]
  },
  {
   "cell_type": "markdown",
   "metadata": {},
   "source": [
    "#### ndarray 객체의 멤버함수 + np의 함수"
   ]
  },
  {
   "cell_type": "code",
   "execution_count": 2,
   "metadata": {},
   "outputs": [
    {
     "data": {
      "text/plain": [
       "array([11, 22, 33, 44, 55])"
      ]
     },
     "execution_count": 2,
     "metadata": {},
     "output_type": "execute_result"
    }
   ],
   "source": [
    "# 사용할 데이터 만들기.\n",
    "arr = np.array(range(11, 56, 11))\n",
    "arr"
   ]
  },
  {
   "cell_type": "code",
   "execution_count": 3,
   "metadata": {},
   "outputs": [
    {
     "data": {
      "text/plain": [
       "165"
      ]
     },
     "execution_count": 3,
     "metadata": {},
     "output_type": "execute_result"
    }
   ],
   "source": [
    "# 합.\n",
    "arr.sum()\n",
    "np.sum(arr)"
   ]
  },
  {
   "cell_type": "code",
   "execution_count": 4,
   "metadata": {},
   "outputs": [
    {
     "data": {
      "text/plain": [
       "33.0"
      ]
     },
     "execution_count": 4,
     "metadata": {},
     "output_type": "execute_result"
    }
   ],
   "source": [
    "# 평균.\n",
    "arr.mean()\n",
    "np.mean(arr)"
   ]
  },
  {
   "cell_type": "code",
   "execution_count": 5,
   "metadata": {},
   "outputs": [
    {
     "data": {
      "text/plain": [
       "33.0"
      ]
     },
     "execution_count": 5,
     "metadata": {},
     "output_type": "execute_result"
    }
   ],
   "source": [
    "# 중앙값.\n",
    "np.median(arr)         "
   ]
  },
  {
   "cell_type": "code",
   "execution_count": 6,
   "metadata": {},
   "outputs": [
    {
     "data": {
      "text/plain": [
       "15.556349186104045"
      ]
     },
     "execution_count": 6,
     "metadata": {},
     "output_type": "execute_result"
    }
   ],
   "source": [
    "# 표준편차.\n",
    "arr.std()\n",
    "np.std(arr)  "
   ]
  },
  {
   "cell_type": "code",
   "execution_count": 7,
   "metadata": {},
   "outputs": [
    {
     "data": {
      "text/plain": [
       "55"
      ]
     },
     "execution_count": 7,
     "metadata": {},
     "output_type": "execute_result"
    }
   ],
   "source": [
    "# 최대값.\n",
    "arr.max()\n",
    "np.max(arr)      "
   ]
  },
  {
   "cell_type": "code",
   "execution_count": 8,
   "metadata": {},
   "outputs": [
    {
     "data": {
      "text/plain": [
       "11"
      ]
     },
     "execution_count": 8,
     "metadata": {},
     "output_type": "execute_result"
    }
   ],
   "source": [
    "# 최소값.\n",
    "arr.min()\n",
    "np.min(arr)      "
   ]
  },
  {
   "cell_type": "code",
   "execution_count": 9,
   "metadata": {},
   "outputs": [
    {
     "data": {
      "text/plain": [
       "4"
      ]
     },
     "execution_count": 9,
     "metadata": {},
     "output_type": "execute_result"
    }
   ],
   "source": [
    "# 가장 큰 값의 index => 즉 55의 인덱스 값을 나타냄.\n",
    "arr.argmax()\n",
    "np.argmax(arr)  "
   ]
  },
  {
   "cell_type": "code",
   "execution_count": 10,
   "metadata": {},
   "outputs": [
    {
     "data": {
      "text/plain": [
       "0"
      ]
     },
     "execution_count": 10,
     "metadata": {},
     "output_type": "execute_result"
    }
   ],
   "source": [
    "# 가장 작은 값의 index => 즉 11의 인덱스 값을 나타냄.\n",
    "arr.argmin()\n",
    "np.argmin(arr)  "
   ]
  },
  {
   "cell_type": "code",
   "execution_count": 11,
   "metadata": {},
   "outputs": [
    {
     "data": {
      "text/plain": [
       "33.0"
      ]
     },
     "execution_count": 11,
     "metadata": {},
     "output_type": "execute_result"
    }
   ],
   "source": [
    "# np.quantile() : 100분위수에 해당하는 값을 찾아낼 수 있음.\n",
    "# 데이터를 정렬했을 떄 50% 해당값 \n",
    "np.quantile(arr, 0.5)             "
   ]
  },
  {
   "cell_type": "code",
   "execution_count": 12,
   "metadata": {},
   "outputs": [
    {
     "data": {
      "text/plain": [
       "array([22., 33., 44.])"
      ]
     },
     "execution_count": 12,
     "metadata": {},
     "output_type": "execute_result"
    }
   ],
   "source": [
    "# 4분위수 값.(Q1, Q2, Q3)\n",
    "np.quantile(arr, [0.25, 0.5, 0.75])    "
   ]
  },
  {
   "cell_type": "code",
   "execution_count": 13,
   "metadata": {},
   "outputs": [
    {
     "data": {
      "text/plain": [
       "array([22., 33., 44.])"
      ]
     },
     "execution_count": 13,
     "metadata": {},
     "output_type": "execute_result"
    }
   ],
   "source": [
    "# np.quantile()와는 단위의 차이만 존재할 뿐 기능은 같음.\n",
    "np.percentile(arr, [25, 50, 75])    "
   ]
  },
  {
   "cell_type": "markdown",
   "metadata": {},
   "source": [
    "#### 문제 1\n",
    "\n",
    "- 1. 국어점수가 50점 이상 80점 이하인 값을 구하시오.\n",
    "- 2. 국어점수의 평균을 구하시오.\n",
    "- 3. 국어점수의 총합을 구하시오.\n",
    "- 4. 국어점수가 40점 이하인 데이터를 삭제하시오.\n",
    "- 5. 국어점수가 50점 이상인 데이터에 가산점 10%를 부여하시오.\n",
    "- 6. 국어점수 top5를 구하시오.\n",
    "- 7. 국어점수가 70점이상이면 '합격', 아니면 '불합격'으로 아래와 같이 출력하시오."
   ]
  },
  {
   "cell_type": "code",
   "execution_count": 14,
   "metadata": {},
   "outputs": [
    {
     "name": "stdout",
     "output_type": "stream",
     "text": [
      "< 결과 >\n",
      "===========================\n",
      "조건 : [60 55 70]\n",
      "---------------------------\n",
      "평균 : 54.167\n",
      "---------------------------\n",
      "합계 : 325\n",
      "---------------------------\n",
      "삭제 : [60 55 70 90]\n",
      "---------------------------\n",
      "가산 : [66 60 77 30 20 99]\n",
      "---------------------------\n",
      "Top5 : [99 77 66 60 30]\n",
      "---------------------------\n",
      "점수 : 66점 여부 : 불합격\n",
      "점수 : 60점 여부 : 불합격\n",
      "점수 : 77점 여부 : 합격\n",
      "점수 : 30점 여부 : 불합격\n",
      "점수 : 20점 여부 : 불합격\n",
      "점수 : 99점 여부 : 합격\n"
     ]
    }
   ],
   "source": [
    "# 사용할 국어 점수 데이터.\n",
    "kor = np.array( [60, 55, 70, 30, 20, 90] )\n",
    "\n",
    "print('< 결과 >')\n",
    "print('='*27)\n",
    "\n",
    "# 1번 문항.\n",
    "print(f'조건 : {kor[(kor >= 50) & (kor <= 80)]}')\n",
    "print('-'*27)\n",
    "\n",
    "# 2번 문항.\n",
    "print(f'평균 : {round(kor.mean(), 3)}')\n",
    "print('-'*27)\n",
    "\n",
    "# 3번 문항.\n",
    "print(f'합계 : {kor.sum()}')\n",
    "print('-'*27)\n",
    "\n",
    "# 4번 문항.\n",
    "dele = np.delete(kor, np.where(kor <= 40))   \n",
    "print(f'삭제 : {dele}')\n",
    "print('-'*27)\n",
    "\n",
    "# 5번 문항.\n",
    "kor[ kor >=  50 ] = kor[ kor >=  50 ]*1.1\n",
    "print(f'가산 : {kor}')\n",
    "print('-'*27)\n",
    "\n",
    "# 6번 문항.\n",
    "print(f'Top5 : {np.sort(kor)[::-1][0:5]}')\n",
    "print('-'*27)\n",
    "\n",
    "# 7번 문항.\n",
    "for x, y in zip(kor, np.where(kor >= 70, '합격', '불합격')):\n",
    "    print(f'점수 : {x}점 여부 : {y}')"
   ]
  }
 ],
 "metadata": {
  "kernelspec": {
   "display_name": "Python 3",
   "language": "python",
   "name": "python3"
  },
  "language_info": {
   "codemirror_mode": {
    "name": "ipython",
    "version": 3
   },
   "file_extension": ".py",
   "mimetype": "text/x-python",
   "name": "python",
   "nbconvert_exporter": "python",
   "pygments_lexer": "ipython3",
   "version": "3.7.6"
  }
 },
 "nbformat": 4,
 "nbformat_minor": 4
}
